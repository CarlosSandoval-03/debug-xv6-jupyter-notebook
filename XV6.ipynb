{
  "nbformat": 4,
  "nbformat_minor": 0,
  "metadata": {
    "colab": {
      "provenance": [],
      "toc_visible": true,
      "authorship_tag": "ABX9TyPBhtUKNY01sKTJwEVnQ0pp",
      "include_colab_link": true
    },
    "kernelspec": {
      "name": "python3",
      "display_name": "Python 3"
    },
    "language_info": {
      "name": "python"
    }
  },
  "cells": [
    {
      "cell_type": "markdown",
      "metadata": {
        "id": "view-in-github",
        "colab_type": "text"
      },
      "source": [
        "<a href=\"https://colab.research.google.com/github/CarlosSandoval-03/degub-xv6-jupyter-notebook/blob/main/XV6.ipynb\" target=\"_parent\"><img src=\"https://colab.research.google.com/assets/colab-badge.svg\" alt=\"Open In Colab\"/></a>"
      ]
    },
    {
      "cell_type": "markdown",
      "source": [
        "# Ejecutar XV6 en Colab"
      ],
      "metadata": {
        "id": "q7ZqK-OhJMge"
      }
    },
    {
      "cell_type": "markdown",
      "source": [
        "## Actualizar el sistema y descargas las dependencias necesarias"
      ],
      "metadata": {
        "id": "cm7g3At4KHMU"
      }
    },
    {
      "cell_type": "markdown",
      "source": [
        "### Dependencias del sistema"
      ],
      "metadata": {
        "id": "fzs5LTVWV45e"
      }
    },
    {
      "cell_type": "code",
      "source": [
        "!sudo apt update && sudo apt-get upgrade\n",
        "!sudo apt install autoconf automake autotools-dev curl python3 python3-pip libmpc-dev libmpfr-dev libgmp-dev gawk build-essential bison flex texinfo gperf libtool patchutils bc zlib1g-dev libexpat-dev ninja-build git cmake libglib2.0-dev\n",
        "!sudo apt install git build-essential gdb-multiarch qemu-system-misc gcc-riscv64-linux-gnu binutils-riscv64-linux-gnu"
      ],
      "metadata": {
        "id": "H8DNI0RyKG0I"
      },
      "execution_count": null,
      "outputs": []
    },
    {
      "cell_type": "markdown",
      "source": [
        "### Dependencias para la ejecución del terminal"
      ],
      "metadata": {
        "id": "iXP6-inmWDHI"
      }
    },
    {
      "cell_type": "code",
      "source": [
        "!wget -P ~ https://git.io/.gdbinit\n",
        "!pip install pygments\n",
        "!pip install colab-xterm\n",
        "\n",
        "%load_ext colabxterm"
      ],
      "metadata": {
        "id": "f2JzM5-TQG1A"
      },
      "execution_count": null,
      "outputs": []
    },
    {
      "cell_type": "markdown",
      "source": [
        "### Código fuente del sistema operativo XV6"
      ],
      "metadata": {
        "id": "pq5Sgv1KWKjv"
      }
    },
    {
      "cell_type": "code",
      "execution_count": null,
      "metadata": {
        "id": "S7PbNTbgJIj-"
      },
      "outputs": [],
      "source": [
        "!git clone https://github.com/CarlosSandoval-03/xv6-riscv\n",
        "%cd ./xv6-riscv"
      ]
    },
    {
      "cell_type": "markdown",
      "source": [
        "## Compilar, ejecutar e iniciar el sistema operativo\n",
        "\n",
        "### Iniciar XV6\n",
        "\n",
        "Para iniciar el sistema operativo, primero ejecuta la siguiente celda, cuando se abra la ventana con el terminal, ingresa:\n",
        "\n",
        "```shell\n",
        "make qemu-gdb\n",
        "```\n",
        "\n",
        "Esto compilará XV6 y lo iniciará en modo de depuración, por lo que hara falta iniciar el GDB para seguir con el proceso. Continua, **SIN CERRAR EL TERMINAL ACTUAL**, a la siguiente celda."
      ],
      "metadata": {
        "id": "y6mqiHISMbPt"
      }
    },
    {
      "cell_type": "code",
      "source": [
        "%xterm"
      ],
      "metadata": {
        "id": "3_sVV0AzQMIr"
      },
      "execution_count": null,
      "outputs": []
    },
    {
      "cell_type": "markdown",
      "source": [
        "## Iniciar GDB\n",
        "\n",
        "**NOTA:** Esto solo funcionará, si ya se encuentra el sistema operativo en modo de espera para la conexión remota del depurador.\n",
        "\n",
        "Ejecute la siguiente celda e ingrese en el terminal el comando:\n",
        "\n",
        "```shell\n",
        "gdb-multiarch\n",
        "```\n",
        "\n",
        "Esto iniciará el compilador que posee compatibilidad con la arquitectura usada por XV6, para emplearla, ingrese:\n",
        "\n",
        "```shell\n",
        "set architecture riscv:rv64\n",
        "```\n",
        "\n",
        "Ahora requiere conectarse de forma remota, para esto es necesario que regrese al terminal anterior, donde se encuentra activo XV6 (esto después de ejecutar `make qemu-gdb`) y observe el puerto en escucha, en mi caso es `tcp::25000⁣`, pero puede cambiar. Una vez tenga esta información, ejecute: Una vez tengas esta información, ejecuta:\n",
        "\n",
        "```shell\n",
        "# target remote <ip>\n",
        "target remote tcp::25000\n",
        "```\n",
        "\n",
        "Ya cuenta con el GDB listo para depurar el archivo que desee, si quiere depurar el kernel, por favor emplee el archivo `kernel/kernel`, para definirlo use el comando:\n",
        "\n",
        "```shell\n",
        "# file <path-archivo>\n",
        "file kernel/kernel\n",
        "```\n",
        "\n"
      ],
      "metadata": {
        "id": "ZUjZ8upiWhfa"
      }
    },
    {
      "cell_type": "code",
      "source": [
        "%xterm"
      ],
      "metadata": {
        "id": "ajXlDpB6WoJq"
      },
      "execution_count": null,
      "outputs": []
    }
  ]
}